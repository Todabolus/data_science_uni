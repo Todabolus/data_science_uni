{
 "cells": [
  {
   "cell_type": "markdown",
   "id": "0",
   "metadata": {},
   "source": [
    "# **Explorative Datenanalyse (EDA): Einfluss von Wirtschaftsnews auf die Rendite des Goldkurses**\n",
    "\n",
    "In diesem Projekt untersuchen wir, wie Wirtschaftsnachrichten aus verschiedenen Bereichen die Goldpreisentwicklung beeinflussen. Unser Ziel ist es, besser vorhersagen zu können, wie sich der Goldpreis rund um die Veröffentlichung solcher Nachrichten verändert. Dabei konzentrieren wir uns vor allem auf die Zeiten, in denen besonders viele Nachrichten veröffentlicht werden, um möglichst aussagekräftige Ergebnisse zu bekommen.\n",
    "\n",
    "## **Ziele unserer Analyse:**\n",
    "1. Herausfinden, wann die meisten Nachrichten veröffentlicht werden, um uns auf diese Zeiten zu konzentrieren\n",
    "2. Statistischer Vergleich der Goldpreis-Entwicklung mit und ohne Nachrichten\n",
    "3. Untersuchung der Auswirkungen verschiedener Nachrichten-Kategorien\n",
    "4. Darstellung in Grafiken, um den Zusammenhang zwischen Nachrichten und Preisschwankungen zu zeigen\n",
    "5. Hypothesentests mit Bootstrap-Methoden, um aussagekräftige Ergebnisse zu erhalten"
   ]
  },
  {
   "cell_type": "markdown",
   "id": "1",
   "metadata": {},
   "source": [
    "## **1. Laden und Vorbereiten der Daten**\n",
    "Wir laden die vorbereiteten Zeitreihendaten und ergänzen sie um Zeit-Informationen wie Stunde und Wochentag, um zeitliche Zusammenhänge besser analysieren zu können.\n"
   ]
  },
  {
   "cell_type": "code",
   "execution_count": null,
   "id": "2",
   "metadata": {},
   "outputs": [],
   "source": [
    "# Standard libraries\n",
    "import pandas as pd\n",
    "from IPython.display import display\n",
    "\n",
    "from utils.eda.calculate import get_top_times, descriptive_statistics, confidence_intervals, correlations, crosstab\n",
    "from utils.eda.plots import return_histogram, boxplot, scatter_plot, hexbin_plot\n",
    "from utils.eda.significance.wrapper import show_news_ttests, show_category_anova, show_category_ttests, show_priority_return_chi2\n",
    "\n"
   ]
  },
  {
   "cell_type": "code",
   "execution_count": null,
   "id": "3",
   "metadata": {},
   "outputs": [],
   "source": [
    "# Load merged dataset\n",
    "df = pd.read_csv(\"data/merged/merged_by_timestamp.csv\", parse_dates=[\"Timestamp\"])\n",
    "\n",
    "# Extract time features for analysis\n",
    "df['date'] = df['Timestamp'].dt.date\n",
    "df['time'] = df['Timestamp'].dt.strftime('%H:%M')\n",
    "df['hour'] = df['Timestamp'].dt.hour\n",
    "df['minute'] = df['Timestamp'].dt.minute\n",
    "df['weekday'] = df['Timestamp'].dt.dayofweek\n",
    "\n",
    "# Define news categories for global use throughout the analysis\n",
    "categories = [\n",
    "    \"central_banks\",\n",
    "    \"economic_activity\",\n",
    "    \"inflation\", \n",
    "    \"interest_rate\",\n",
    "    \"labor_market\",\n",
    "    \"politics\"\n",
    "]\n",
    "\n",
    "display(f\"Dataset loaded: {len(df)} rows, {len(df.columns)} columns\")\n",
    "display(f\"Time range: {df['Timestamp'].min()} to {df['Timestamp'].max()}\")\n",
    "display(f\"Available columns: {list(df.columns)}\")"
   ]
  },
  {
   "cell_type": "markdown",
   "id": "4",
   "metadata": {},
   "source": [
    "## **2. Analysiere der Häufigkeit von Wirtschaftsnachrichten zu verschiedenen Uhrzeiten**\n",
    "\n",
    "**Ziel:** Wir wollen die Zeiträume mit der höchsten Nachrichtenaktivität herausfinden. So können wir unsere Analyse auf Zeitpunkte konzentrieren, an denen genug Nachrichten veröffentlicht werden und die daher besonders relevant sind."
   ]
  },
  {
   "cell_type": "code",
   "execution_count": null,
   "id": "5",
   "metadata": {},
   "outputs": [],
   "source": [
    "top_times = get_top_times(df, n_top=5)\n",
    "\n",
    "display (top_times)"
   ]
  },
  {
   "cell_type": "markdown",
   "id": "6",
   "metadata": {},
   "source": [
    "### Interpretation\n",
    "##### Rationale für die Top-5-Zeitfilterung\n",
    "- Wir konzentrieren uns auf die **5 Uhrzeiten mit der höchsten News-Aktivität**, da diese die relevantesten Zeitpunkte für die Analyse des News-Impacts darstellen\n",
    "- Diese Fokussierung eliminiert Zeitperioden mit sporadischer oder geringer News-Aktivität, wodurch wir **statistisch robustere Ergebnisse** erhalten\n",
    "- Durch die Reduktion auf `{len(df_relevant)}` von ursprünglich `{len(df)}` Datenpunkten konzentrieren wir uns auf die **analytisch wertvollsten Observationen**\n",
    "\n",
    "##### Warum diese Methodik für uns sinnvoll ist\n",
    "1. **Erhöhte statistische Power**: Mehr News-Events pro Zeiteinheit = bessere Vergleichbarkeit\n",
    "2. **Reduziertes Rauschen**: Eliminierung von Zeitperioden mit zufälligen/seltenen News\n",
    "3. **Fokussierte Analyse**: Untersuchung der Zeitpunkte, an denen tatsächlich substantielle News-Aktivität stattfindet\n",
    "\n",
    "Diese Vorgehensweise entspricht dem Prinzip der **datengetriebenen Fokussierung** - wir lassen die Daten selbst zeigen, wann News am relevantesten sind."
   ]
  },
  {
   "cell_type": "markdown",
   "id": "7",
   "metadata": {},
   "source": [
    "## **3. Deskriptive Statistik der Rendite (Top-Zeitpunkte)**\n",
    "Wir analysieren zentrale Kennzahlen wie Mittelwert, Median, Standardabweichung und Interquartilsabstand (IQR).\n"
   ]
  },
  {
   "cell_type": "code",
   "execution_count": null,
   "id": "8",
   "metadata": {},
   "outputs": [],
   "source": [
    "descriptive_statistics(df, top_times)"
   ]
  },
  {
   "cell_type": "markdown",
   "id": "9",
   "metadata": {},
   "source": [
    "### Interpretation\n",
    "Zentrale Erkenntnisse aus der Statistik-Analyse\n",
    "\n",
    "##### 1. Vergleich mit vs. ohne News (Alle Top-Zeitpunkte kombiniert)\n",
    "- **Mittelwert**: Mit News (0.2966) vs. Ohne News (0.2115) → **+40% höhere Volatilität** bei News\n",
    "- **Median**: Mit News (0.2292) vs. Ohne News (0.1677) → **+37% höherer Median** bei News\n",
    "- **Standardabweichung**: Mit News (0.2336) vs. Ohne News (0.1684) → **+39% höhere Streuung** bei News\n",
    "\n",
    "##### 2. Statistische Bedeutung\n",
    "- **Erhöhte Volatilität**: News-Zeitpunkte zeigen konsistent höhere absolute Renditen\n",
    "- **Breitere Verteilung**: Höhere Standardabweichung deutet auf größere Preisschwankungen hin\n",
    "- **Robustes Muster**: Der Effekt ist sowohl bei Mittelwert als auch Median sichtbar\n",
    "\n",
    "##### 3. Zeitpunkt-spezifische Unterschiede\n",
    "- **13:30**: Stärkster News-Effekt (0.3332 vs. 0.2139) → **+56% Volatilitätssteigerung**\n",
    "- **15:00**: Moderater Effekt (0.2904 vs. 0.2371 und 0.2298 vs. 0.1882)\n",
    "- **19:00**: Deutlicher Effekt (0.2557 vs. 0.1160) → **+120% Volatilitätssteigerung**\n",
    "\n",
    "**Fazit**: Die Daten bestätigen klar den **signifikanten Einfluss von Wirtschaftsnews auf die Goldpreis-Volatilität** mit einer durchschnittlichen Volatilitätssteigerung von etwa 40% während News-intensiver Perioden."
   ]
  },
  {
   "cell_type": "markdown",
   "id": "10",
   "metadata": {},
   "source": [
    "## **4. Konfidenzintervalle**\n",
    "Berechnung von 95%-Konfidenzintervallen für Mittelwert, Median (per Bootstrap) und Standardabweichung.\n"
   ]
  },
  {
   "cell_type": "markdown",
   "id": "11",
   "metadata": {},
   "source": [
    "###  **Methodische Erläuterung: Bootstrap-Verfahren für Konfidenzintervalle**\n",
    "\n",
    "**Warum Bootstrap statt klassischer Normalverteilungsannahme?**\n",
    "\n",
    "1. **Keine Verteilungsannahmen erforderlich**: \n",
    "   - Bootstrap ist ein **nicht-parametrisches Verfahren**, das keine Annahmen über die zugrunde liegende Verteilung der Renditen macht\n",
    "   - Dies ist besonders wichtig bei Finanzrenditen, die häufig **nicht normalverteilt** sind (Schiefe, Kurtosis, Fat Tails)\n",
    "\n",
    "2. **Robustheit bei kleinen Stichproben**:\n",
    "   - Mit `n_bootstrap=10.000` Wiederholungen erhalten wir sehr **stabile und verlässliche Schätzungen**\n",
    "   - Besonders vorteilhaft bei unseren gefilterten Daten, wo einzelne Uhrzeiten möglicherweise begrenzte Observationen haben\n",
    "\n",
    "3. **Realistische Unsicherheitsquantifizierung**:\n",
    "   - Bootstrap-Konfidenzintervalle spiegeln die **tatsächliche Variabilität** in den Daten wider\n",
    "   - Ermöglicht aussagekräftige statistische Inferenz ohne restriktive Verteilungsannahmen\n",
    "\n",
    "**Interpretation der 95%-Konfidenzintervalle**:\n",
    "- Wenn sich die Konfidenzintervalle von \"With News\" und \"Without News\" **nicht überschneiden**, deutet dies auf einen statistisch signifikanten Unterschied hin\n",
    "- Breite der Intervalle gibt Aufschluss über die **Präzision unserer Schätzungen**, haben wir also ein kleines Intervall in unserer Schätzung, kann man behaupten, das unsere Ergebnisse repräsentativ sind."
   ]
  },
  {
   "cell_type": "code",
   "execution_count": null,
   "id": "12",
   "metadata": {},
   "outputs": [],
   "source": [
    "confidence_intervals(\n",
    "    df=df,               \n",
    "    top_times=top_times,       \n",
    "    cols=[\"|Return|\"],  \n",
    "    event_col=\"event_count\",\n",
    "    time_col=\"time\",\n",
    "    confidence=0.95,\n",
    "    n_bootstrap=10000\n",
    ")"
   ]
  },
  {
   "cell_type": "markdown",
   "id": "13",
   "metadata": {},
   "source": [
    "### Interpretation\n",
    "\n",
    "**Was wir aus den 95%-Konfidenzintervallen lernen können:**\n",
    "\n",
    "##### 1. Unterschiede zwischen News- und Nicht-News-Perioden\n",
    "- Die Konfidenzintervalle von \"With News\" und \"Without News\" überschneiden sich nicht → das deutet auf einen Unterschied hin\n",
    "- **Mit News**: Mittelwert-KI [0.290, 0.303], Median-KI [0.221, 0.234]\n",
    "- **Ohne News**: Mittelwert-KI [0.206, 0.217], Median-KI [0.163, 0.172]\n",
    "\n",
    "##### 2. Größe der beobachteten Effekte\n",
    "- **Mittelwert-Unterschied**: etwa 0.085 Punkte höhere absolute Rendite bei News\n",
    "- **Median-Unterschied**: etwa 0.055 Punkte höhere absolute Rendite bei News\n",
    "- **Relative Betrachtung**: ungefähr 40% höhere Volatilität während News-Perioden\n",
    "\n",
    "##### 3. Verlässlichkeit unserer Schätzungen\n",
    "- Die relativ **engen Konfidenzintervalle** (±0.006-0.007 um den Mittelwert) zeigen, dass unsere Schätzungen ziemlich präzise sind\n",
    "- Mit **10.000 Bootstrap-Replikationen** haben wir eine solide Grundlage für unsere Schlüsse\n",
    "- Das Bootstrap-Verfahren ist praktisch, da wir keine speziellen Annahmen über die Datenverteilung treffen müssen\n",
    "\n",
    "##### 4. Was das für unsere Analyse bedeutet\n",
    "- Es scheint einen **erkennbaren Unterschied** in der Goldpreis-Volatilität zu geben\n",
    "- Der Effekt ist nicht nur statistisch messbar, sondern auch **praktisch relevant** (40% Steigerung)\n",
    "\n",
    "**Fazit**: Die Bootstrap-Konfidenzintervalle **unterstützen die Vermutung**, dass Wirtschaftsnachrichten einen **messbaren Einfluss auf die Goldpreis-Volatilität** haben. Diese Vermutung wollen wir im weiteren genauer betrachten, wollen aber erst einmal im Rahmen der Projektarbeit ein paar Visualisierungen vornhemen um den Sachverhalt noch genauer zu betrachten und interpretieren zu können."
   ]
  },
  {
   "cell_type": "markdown",
   "id": "14",
   "metadata": {},
   "source": [
    "## **5. Visualisierungen**\n",
    "### Histogramm der Renditen (Top-Zeitpunkte)"
   ]
  },
  {
   "cell_type": "code",
   "execution_count": null,
   "id": "15",
   "metadata": {},
   "outputs": [],
   "source": [
    "return_histogram(df, top_times)"
   ]
  },
  {
   "cell_type": "markdown",
   "id": "16",
   "metadata": {},
   "source": [
    "### Boxplot nach Uhrzeit (nur Top-Zeitpunkte)"
   ]
  },
  {
   "cell_type": "code",
   "execution_count": null,
   "id": "17",
   "metadata": {},
   "outputs": [],
   "source": [
    "boxplot(\n",
    "    df=df,                    \n",
    "    top_times=top_times,      \n",
    "    abs_return_col=\"|Return|\",\n",
    "    raw_return_col=\"Return\",\n",
    "    event_col=\"event_count\",\n",
    "    time_col=\"time\",\n",
    "    figsize=(14, 6)\n",
    ")"
   ]
  },
  {
   "cell_type": "markdown",
   "id": "18",
   "metadata": {},
   "source": [
    "### Interpretation\n",
    "\n",
    "In der folge wollen wir kurz ein wenig ausführlicher auf die Box-Plots schauen, da sich daraus einige\n",
    "Eigenschaften schließen lassen, welche im Verlauf der Projektarbeit noch genauer untersucht werden sollen.\n",
    "\n",
    "##### 1. Absolute Returns (|Return|) - Oberer Plot\n",
    "\n",
    "**Konsistente Volatilitätssteigerung durch News:**\n",
    "- **Alle 5 Uhrzeiten** zeigen bei \"With News\" **höhere Mediane** als bei \"Without News\"\n",
    "- **13:30 Uhr**: Stärkster News-Effekt sichtbar - deutlich erhöhter Median und breiteste IQR-Verteilung\n",
    "- **14:00 Uhr**: Zweitstärkster Effekt mit klarer Median-Erhöhung und ausgeprägter Volatilitätssteigerung\n",
    "- **14:30 Uhr**: Hoch-moderater Effekt - deutliche aber etwas schwächere News-Reaktion als 14:00\n",
    "- **15:00 Uhr**: Moderater Effekt - sichtbare Median-Erhöhung, weniger ausgeprägt als frühere Uhrzeiten\n",
    "- **19:00 Uhr**: Sehr starker Effekt am frühen Abend nach dem \"Nachmittagstief\"\n",
    "\n",
    "**Extreme Volatilitätsspitzen:**\n",
    "- \"With News\" zeigt **deutlich mehr Ausreißer** (Punkte oberhalb der Whiskers)\n",
    "- **Maximale |Returns|** bei News-Events sind substanziell höher als ohne News\n",
    "- Dies bestätigt: News führen zu **ungewöhnlich hohen Volatilitätsspitzen**\n",
    "\n",
    "##### 2. Raw Returns (Return) - Unterer Plot\n",
    "\n",
    "**Symmetrische aber verstärkte Verteilung:**\n",
    "- Beide Gruppen sind **erwartungsgemäß um Null zentriert** (Mediane ≈ 0)\n",
    "- **Entscheidend**: \"With News\" zeigt **größere Interquartilsabstände (IQR)**\n",
    "- **Interpretation**: News führen zu extremeren Ausschlägen in **beide Richtungen** (positive und negative Returns)\n",
    "\n",
    "**Erhöhte Markt-Unsicherheit:**\n",
    "- **Symmetrische Streuung** deutet darauf hin, dass News sowohl positive als auch negative Überraschungen enthalten\n",
    "- **Breitere Whiskers** bei \"With News\" = höhere Wahrscheinlichkeit für extreme Bewegungen\n",
    "\n",
    "##### 3. \"All Times\" Gesamtbild\n",
    "\n",
    "- **Aggregierte Evidenz** über alle 5 Top-Uhrzeiten bestätigt systematischen News-Impact\n",
    "- **Nachmittags-Dominanz**: Der Zeitraum 13:30-15:00 zeigt die stärksten und konsistentesten Effekte\n",
    "- **Graduelle Abschwächung**: Klares Pattern von sehr stark (13:30) über moderat (14:30, 15:00) bis erneut sehr stark (19:00)\n",
    "- **Methodische Bestätigung**: \"All Times\" validiert die Top-5-Uhrzeiten-Filterung als sinnvollen Ansatz\n",
    "\n",
    "**Schlussfolgerung:** Die Boxplot-Analyse liefert **robuste deskriptive Evidenz** für systematisch höhere Goldpreis-Volatilität während News-Events über alle 5 Top-Uhrzeiten hinweg. Der Effekt zeigt eine **klare zeitliche Hierarchie** von sehr stark (13:30) über hoch (14:00), hoch-moderat (14:30), moderat (15:00) bis erneut sehr Stark (19:00). Diese **Mittags-dominierte Volatilitätsstruktur** mit gradueller Abschwächung und erneuter **Steigung** bildet die **empirische Grundlage** für die nachfolgenden statistischen Signifikanztests, sowie für alle weiteren Betrachtungen im Rahmen dieser Projektarbeit."
   ]
  },
  {
   "cell_type": "markdown",
   "id": "19",
   "metadata": {},
   "source": [
    "### Streudiagramm: Impact vs. Return\n",
    "Visualisierung der Beziehung zwischen News-Impact und Rendite an den relevanten Zeitpunkten."
   ]
  },
  {
   "cell_type": "code",
   "execution_count": null,
   "id": "20",
   "metadata": {},
   "outputs": [],
   "source": [
    "scatter_plot(\n",
    "    df=df,\n",
    "    top_times=top_times,\n",
    "    impact_col=\"impact_sum\",\n",
    "    return_col=\"|Return|\",\n",
    "    event_col=\"event_count\",\n",
    "    time_col=\"time\",\n",
    "    figsize=(10, 6)\n",
    ")"
   ]
  },
  {
   "cell_type": "markdown",
   "id": "21",
   "metadata": {},
   "source": [
    "Die Interpretation des Streudiagrammes fällt an dieser Stele recht schwer, da sich die werte sehr gebündelt an einigen Stellen sammeln, daher haben wir uns dafür entschieden, eine andere Darstellung zu wählen, welche nachfolgend erläutert wird."
   ]
  },
  {
   "cell_type": "markdown",
   "id": "22",
   "metadata": {},
   "source": [
    "### Hexbin-Plot: Impact vs. Return\n",
    "Alternative Darstellung zur besseren Dichteeinschätzung.\n"
   ]
  },
  {
   "cell_type": "code",
   "execution_count": null,
   "id": "23",
   "metadata": {},
   "outputs": [],
   "source": [
    "hexbin_plot(\n",
    "    df=df,                     \n",
    "    top_times=top_times,       \n",
    "    impact_col=\"impact_sum\",\n",
    "    return_col=\"|Return|\",\n",
    "    event_col=\"event_count\",\n",
    "    time_col=\"time\",\n",
    "    figsize=(10, 6),\n",
    "    gridsize=30,                \n",
    ")"
   ]
  },
  {
   "cell_type": "markdown",
   "id": "24",
   "metadata": {},
   "source": [
    "## **8. Korrelationen**\n",
    "Analyse der linearen Zusammenhänge zwischen verschiedenen Impact-Maßen und der Rendite.\n",
    "\n",
    "**Warum Korrelationsanalyse zusätzlich zu den T-Tests (kommen später im Projekt)?**\n",
    "\n",
    "1. **Komplementäre Perspektiven**:\n",
    "   - **T-Tests**: Zeigen, **ob** Unterschiede existieren (Gruppenmittelwerte)\n",
    "   - **Korrelationen**: Zeigen, **wie stark** lineare Zusammenhänge sind (kontinuierliche Beziehung)\n",
    "\n",
    "2. **Drei Impact-Dimensionen analysiert**:\n",
    "   - `impact_sum`: **Gesamte News-Intensität** pro Zeitpunkt\n",
    "   - `impact_mean`: **Durchschnittliche News-Stärke** pro Zeitpunkt\n",
    "   - `impact_std`: **Variabilität der News-Impacts** pro Zeitpunkt\n",
    "\n",
    "**Fokus auf News-Only Data:**\n",
    "- Korrelationen nur für Zeitpunkte mit `event_count > 0` berechnet\n",
    "- **Rationale**: Bei \"keine News\" sind alle Impact-Metriken Null → Korrelation wenig aussagekräftig\n",
    "- Fokussierung auf **kontinuierliche Variabilität innerhalb der News-Perioden**"
   ]
  },
  {
   "cell_type": "code",
   "execution_count": null,
   "id": "25",
   "metadata": {},
   "outputs": [],
   "source": [
    "correlations(\n",
    "    df=df,                  \n",
    "    top_times=top_times,      \n",
    "    impact_cols=[\"impact_sum\", \"impact_mean\", \"impact_std\"],\n",
    "    return_col=\"|Return|\",\n",
    "    event_col=\"event_count\",\n",
    "    time_col=\"time\",\n",
    "    method=\"pearson\",\n",
    "    decimals=4\n",
    ")\n"
   ]
  },
  {
   "cell_type": "markdown",
   "id": "26",
   "metadata": {},
   "source": [
    "### Interpretation\n",
    "\n",
    "**Was die Korrelationen mit |Return| uns zeigen:**\n",
    "\n",
    "##### 1. impact_sum (r = 0.342) - Der stärkste Zusammenhang\n",
    "- Je mehr News-Impact insgesamt da ist, desto höher die Goldpreis-Volatilität\n",
    "- Das macht Sinn: Viele News gleichzeitig = mehr Marktbewegung\n",
    "- **Fazit**: Die Gesamtmenge der News ist am wichtigsten für Preisschwankungen\n",
    "\n",
    "##### 2. impact_mean (r = 0.154) - Schwächster Zusammenhang\n",
    "- Die durchschnittliche Stärke einzelner News korreliert nur schwach mit der Volatilität\n",
    "- Überraschend: Nicht die Qualität der einzelnen News zählt, sondern die Masse\n",
    "- **Fazit**: Viele mittelmäßige News sind wichtiger als wenige starke News\n",
    "\n",
    "##### 3. impact_std (r = 0.238) - Moderater Zusammenhang\n",
    "- Wenn die News-Impacts sehr unterschiedlich sind, steigt die Volatilität\n",
    "- Gemischte Nachrichtenlage sorgt für Unsicherheit am Markt\n",
    "- **Fazit**: Widersprüchliche News verstärken die Preisschwankungen\n",
    "\n",
    "##### Praktisch bedeutet das \n",
    "- Goldpreis reagiert am stärksten auf **News-Cluster** (viele News gleichzeitig)\n",
    "- Einzelne \"Hammer-News\" haben weniger Einfluss als gedacht\n",
    "- Wenn die Nachrichtenlage uneinheitlich ist, wird's volatil"
   ]
  },
  {
   "cell_type": "markdown",
   "id": "27",
   "metadata": {},
   "source": [
    "## **9. Kreuztabelle: Newskategorie vs. High Return**\n",
    "Mit dieser Kreuztabelle wollen wir untersuchen, ob es einen Zusammenhang gibt zwischen der sogenannten \"News Präsenz\", quasi ob im Zeitintervall mindestens eine Wirtschatsnachricht der bestimmten Kategorie auftaucht, und einem \"High Return\".\n",
    "Als High Return haben wir alle Werte definiert, welche über dem Mittelwert aus den Mittelwerten **mit News (0.2966)** und **ohne News (0.2115)** \n",
    "$$\n",
    "\\text{Schwellwert} = \\frac{0.296600 + 0.211500}{2} = 0.25405\n",
    "$$\n",
    "\n",
    "Auf Grundlage dieser Klassifikationsmerkmale werden wir die Kreuztabelle aufstellen und interpretieren."
   ]
  },
  {
   "cell_type": "code",
   "execution_count": null,
   "id": "28",
   "metadata": {},
   "outputs": [],
   "source": [
    "high_return_threshold = 0.25405\n",
    "\n",
    "crosstab(\n",
    "    df=df,\n",
    "    top_times=top_times,\n",
    "    categories=categories,\n",
    "    high_return_threshold=high_return_threshold,\n",
    "    return_col='Return',\n",
    "    time_col='time'\n",
    ")\n"
   ]
  },
  {
   "cell_type": "markdown",
   "id": "29",
   "metadata": {},
   "source": [
    "### Interpretation\n",
    "\n",
    "Die Ergebnisse zeigen, dass in fast allen Kategorien ein Zusammenhang zwischen News und höheren Renditen besteht. Besonders stark ist der Effekt bei Inflation und Interest Rate, wo der Anteil an High Returns mit News deutlich höher ist als ohne. Auch bei Economic Activity, Labor Market und Central Banks gibt es einen positiven Zusammenhang, wenn auch etwas schwächer.\n",
    "\n",
    "Auffällig ist, dass bei Politics der Effekt umgekehrt ist: Hier sinkt der Anteil an High Returns, wenn politische News vorhanden sind. Das deutet darauf hin, dass politische Nachrichten tendenziell für Unsicherheit sorgen und eher keine positiven Marktreaktionen auslösen.\n",
    "\n",
    "Insgesamt zeigen die Ergebnisse, dass wirtschaftliche Nachrichten öfter mit starken Marktbewegungen verbunden sind als politische."
   ]
  },
  {
   "cell_type": "markdown",
   "id": "30",
   "metadata": {},
   "source": [
    "## **10. t-Test: Vergleich von Returns mit und ohne News**\n",
    "\n",
    "Da die bishereigen Untersuchungen alle den anschein gemacht haben, das das Auftreten von News einen Einfluss hat, wollen wir mithilfe von T-Tests nochmal spezifischer untersuchen, ob der Mittelwert des Returns sich wirklich signifikant unterscheidet, wenn news auftreten im vergleich zu wenn keine news auftreten.\n",
    "\n",
    "Aus diessen Überlungen ergeben sich für uns folgende Hypothesen:\n",
    "\n",
    "**Nullhypothese H₀:** Es gibt **keinen** Unterschied im Mittelwert der Renditen.\n",
    "\n",
    "**Alternativhypothese H₁:** Es gibt einen signifikanten Unterschied im Mittelwert der Renditen.\n",
    "\n",
    "Wir bretrachen beim Testen zuerst jede unsere 5 \"Top-Uhrzeiten\" erst separat und im Anschluss noch einmal alle zusammen."
   ]
  },
  {
   "cell_type": "code",
   "execution_count": null,
   "id": "31",
   "metadata": {},
   "outputs": [],
   "source": [
    "top_times = show_news_ttests(\n",
    "    df=df,\n",
    "    top_times=top_times,     \n",
    "    return_col=\"|Return|\",\n",
    "    event_col=\"event_count\",\n",
    "    time_col=\"time\",\n",
    "    num_permutations=10_000,\n",
    "    equal_var=False,\n",
    "    alpha=0.05\n",
    ")\n",
    "\n",
    "display(top_times)\n"
   ]
  },
  {
   "cell_type": "markdown",
   "id": "32",
   "metadata": {},
   "source": [
    "### Interpretation\n",
    "\n",
    "Aus den Ergebnissen der T-Tests lassen sich einige Sachen für uns Schlussfolgern.\n",
    "\n",
    "##### 1. Signifikante Uhrzeiten mit News-Impact\n",
    "- **13:30 Uhr**: Höchst signifikant (p < 0.000100) - **+55% Volatilitätssteigerung** (0.3322 vs. 0.2139)\n",
    "- **15:00 Uhr**: Höchst signifikant (p < 0.000100) - **+22% Volatilitätssteigerung** (0.2904 vs. 0.2298)\n",
    "- **19:00 Uhr**: Höchst signifikant (p < 0.000100) - **+58% Volatilitätssteigerung** (0.2557 vs. 0.1160)\n",
    "\n",
    "##### 2. Nicht-signifikante Uhrzeiten\n",
    "- **14:00 Uhr**: p = 0.275 - Effekt beobachtbar (+9%), aber statistisch nicht belegbar\n",
    "- **14:30 Uhr**: p = 0.490 - Schwächster Effekt (+3%), statistisch nicht signifikant\n",
    "\n",
    "##### 3. Robuster Gesamteffekt\n",
    "- **All Times kombiniert**: Höchst signifikant (p < 0.000100)\n",
    "- **+40% höhere durchschnittliche Volatilität** bei News-Ereignissen (0.2966 vs. 0.2115)\n",
    "\n",
    "Im bezug zu den vorher definierten Hypothesen, ist die Nullhypothese in 3 von 5 Fällen abzulehen, wenn man sich auf die Uhrzeiten spezifisch bezieht. Lediglich 14:00 sowie 14:30 liefern das Ergebnis, das es keinen signifikaten Unterschied gebe.\n",
    "\n",
    "Betrachten wir diese Ergebnisse und interpretieren sie im Sachzusammenhang, ergibt sich für uns folgende methodische Konsequenz. Da wir später ein Modell trainieren wollen, was sehr zielsicher ist und möglichst nicht auf dem Zufall beruht, werden wir unsere Analyse ab diesem Punkt **auf die 3 statistisch signifikanten Uhrzeiten** (13:30, 15:00, 19:00) fokussieren, um die analytische Präzision zu maximieren und statistische Power zu erhöhen."
   ]
  },
  {
   "cell_type": "markdown",
   "id": "33",
   "metadata": {},
   "source": [
    "## **11. ANOVA: Einfluss von News einer Kategorie auf den Return**\n",
    "\n",
    "Nachdem wir in den vorherigen Tests mehrfach auf die Uhrzeit eingeangen sind, wollen wir uns in diesem Anova Test mehr mit den Kategorien der News außerinandersetzen.\n",
    "\n",
    "Für diese Untersuchung brechen wir unseren vorhanden Datensatz erneut ein wenig herunter und betrachten nur noch Reihen, wo nur News aus genau einer Kategorie aufgetreten sind. Diese Grundlage ermöglicht es uns, den Mittelwert des Returns zwischen den Gruppen zu vergleichen, wenn News aufgetreten sind.\n",
    "\n",
    "Wir haben für uns schon ein Paar Überlegungen gemacht, das es Unterschiede zwischen den Gruppen gibt, wollen aber hier vor der spezifischen Untersuchung davon aus gehen, dass alle Gruppen den gleichen Einfluss haben und formulieren daher folgende Hypothesen: \n",
    "\n",
    "**Nullhypothese H₀:** Alle Gruppen haben denselben Mittelwert.\n",
    "\n",
    "**Alternativhypothese H₁:** Mindestens eine Gruppe unterscheidet sich."
   ]
  },
  {
   "cell_type": "code",
   "execution_count": null,
   "id": "34",
   "metadata": {},
   "outputs": [],
   "source": [
    "show_category_anova(\n",
    "    df=df,\n",
    "    top_times=top_times,\n",
    "    categories=categories,\n",
    "    return_col=\"|Return|\",\n",
    "    event_col=\"event_count\",\n",
    "    time_col=\"time\",\n",
    "    num_permutations=10_000,\n",
    "    random_seed=123,\n",
    ")\n"
   ]
  },
  {
   "cell_type": "markdown",
   "id": "35",
   "metadata": {},
   "source": [
    "### Interpretation\n",
    "\n",
    "Aus den ANOVA-Ergebnissen können wir einige wichtige Schlüsse für unser Projekt ziehen.\n",
    "Die Bootstrap-ANOVA hat untersucht, ob verschiedene News-Kategorien unterschiedlich starke Auswirkungen auf die Goldpreis-Volatilität haben. Dabei haben wir nur Zeitpunkte betrachtet, wo genau eine Kategorie von News aufgetreten ist - so können wir den Einfluss jeder Kategorie sauber isolieren.\n",
    "\n",
    "##### Die Ergebnisse im Detail\n",
    "- **F-Statistik**: 50.2246 - das ist ein ziemlich hoher Wert\n",
    "- **p-Wert**: < 0.000100 - eindeutig signifikant\n",
    "- **Bootstrap-Bestätigung**: Mit 10.000 Wiederholungen haben wir ein sehr stabiles Ergebnis\n",
    "\n",
    "##### Was bedeutet das jetzt für uns\n",
    "Unsere **Nullhypothese können wir klar verwerfen** - die verschiedenen News-Kategorien haben definitiv nicht alle denselben Einfluss auf die Goldpreis-Schwankungen. Das war eigentlich zu erwarten und war auch schon unsere Vorüberlegung, aber mit Hilfe des ANOVE Tests, haben wir es jetzt statistisch belegt.\n",
    "\n",
    "##### Methodische Konsequenz für unser Projekt\n",
    "Da wir jetzt wissen, dass verschiedene Kategorien unterschiedlich wirken, macht es Sinn, in unserem späteren Modell **kategorienspezifische Features** zu verwenden. Wir sollten nicht alle News-Typen über einen Kamm scheren, sondern ihre unterschiedlichen Einflüsse berücksichtigen.\n",
    "\n",
    "**Fazit:** Die ANOVA bestätigt, was wir vermutet haben - nicht alle Wirtschaftsnachrichten sind gleich. Manche Kategorien bewegen den Goldmarkt stärker als andere, und das sollten wir in unserer weiteren Analyse und Modellierung unbedingt beachten.\n",
    "\n",
    "Dieses Zwischenfazit bildet auch die Grundlage für die kommenden T-Tests."
   ]
  },
  {
   "cell_type": "markdown",
   "id": "36",
   "metadata": {},
   "source": [
    "## **12. Kategorienspezifische t-Tests: News-Impact nach Kategorie**\n",
    "\n",
    "Nachdem die ANOVA gezeigt hat, dass verschiedene News-Kategorien unterschiedliche Einflüsse haben, wollen wir jetzt genauer hinschauen. Für jede Kategorie einzeln testen wir, ob sich die Goldpreis-Volatilität signifikant unterscheidet, wenn News aus dieser spezifischen Kategorie auftreten.\n",
    "\n",
    "**Unser Ansatz:**\n",
    "Wir vergleichen für jede der 6 Kategorien separat:\n",
    "- **Gruppe A**: Alle Zeitpunkte mit mindestens einer News aus dieser Kategorie\n",
    "- **Gruppe B (Baseline)**: Alle Zeitpunkte komplett ohne News\n",
    "\n",
    "**Warum dieser Ansatz sinnvoll ist:**\n",
    "- Wir können den Einfluss jeder Kategorie **isoliert betrachten**\n",
    "- Die Baseline (keine News) ist für alle Tests gleich und damit **vergleichbar**\n",
    "- Wir bekommen ein klareres Bild davon, welche News-Typen wirklich einen **messbaren Impact** haben\n",
    "\n",
    "**Hypothesen für jeden Test:**\n",
    "- **Nullhypothese H₀:** Kein Unterschied im absoluten Return zwischen Kategorie-News und Baseline\n",
    "- **Alternativhypothese H₁:** Signifikanter Unterschied im absoluten Return\n",
    "\n",
    "Da wir 6 Tests durchführen, korrigieren wir die p-Werte mit der **Holm-Bonferroni-Methode**, um das Problem multipler Vergleiche zu berücksichtigen."
   ]
  },
  {
   "cell_type": "code",
   "execution_count": null,
   "id": "37",
   "metadata": {},
   "outputs": [],
   "source": [
    "show_category_ttests(\n",
    "    df=df,\n",
    "    top_times=top_times,        \n",
    "    categories=[\n",
    "        \"central_banks\",\n",
    "        \"economic_activity\",\n",
    "        \"inflation\",\n",
    "        \"interest_rate\",\n",
    "        \"labor_market\",\n",
    "        \"politics\"\n",
    "    ],\n",
    "    return_col=\"|Return|\",\n",
    "    event_col=\"event_count\",\n",
    "    time_col=\"time\",\n",
    "    num_permutations=10_000,\n",
    "    equal_var=False,\n",
    "    alpha=0.05\n",
    ")"
   ]
  },
  {
   "cell_type": "markdown",
   "id": "38",
   "metadata": {},
   "source": [
    "### Interpretation\n",
    "\n",
    "Die Ergebnisse der einzelen T-Tests geben uns Aufschluss darüber, welche Kategorie mehr und welche weniger Einfluss auf den Goldkurs hat.\n",
    "\n",
    "##### Was bringen uns diese Erkenntnisse?\n",
    "\n",
    "Wir wollen die neu erungen Erkenntnisse später im Modelling Part noch ausführlicher nutzen. Dort werden wir eine gewichtete multiple lineare Regression vornehmen, wobei sich die Gewichtung an den Ergebnissen dieses Zwischenschrittes orientieren wird. Daher haben wir jetzt eine klare Richtung, wie wir im weiteren Projektverlauf weiter machen können."
   ]
  },
  {
   "cell_type": "markdown",
   "id": "39",
   "metadata": {},
   "source": [
    "## **13. Chi-Quadrat Test**\n",
    "\n",
    "Wir haben die Kategorien entsprechend des kategoriespezifischen t-Test's unterschiedlich prioriesert/gruppiert.\n",
    "\n",
    "- **interest_rate**: 4\n",
    "- **inflation**: 3\n",
    "- **labor_market**: 3\n",
    "- **central_banks**: 2\n",
    "- **economic_activity**: 2\n",
    "- **politics**: 1\n",
    "\n",
    "Außerdem haben wir den **|Return|** auf Grundlage seines Median's in 0(low Return) und 1(high return) gruppiert.\n",
    "\n",
    "Der Chi^2 Test untersucht nun ob es einen signfikanzen zusammenhang von der **Prioriät** zu den **|Return|**-Klassen gibt."
   ]
  },
  {
   "cell_type": "code",
   "execution_count": null,
   "id": "40",
   "metadata": {},
   "outputs": [],
   "source": [
    "show_priority_return_chi2(\n",
    "    df=df,\n",
    "    top_times=top_times,\n",
    "    prio_map={\n",
    "        \"interest_rate\": 4,\n",
    "        \"inflation\": 3,\n",
    "        \"labor_market\": 3,\n",
    "        \"central_banks\": 2,\n",
    "        \"economic_activity\": 2,\n",
    "        \"politics\": 1,\n",
    "    },\n",
    "    num_permutations=10_000,\n",
    "    alpha=0.05,\n",
    "    random_seed=42,\n",
    ")"
   ]
  },
  {
   "cell_type": "markdown",
   "id": "41",
   "metadata": {},
   "source": [
    "### Interpretation des Chi²-Tests\n",
    "\n",
    "##### Fragestellung  \n",
    "  Es wurde untersucht, ob ein Zusammenhang zwischen **News Priority** (Nachrichtenpriorität) und **High |Return|** (hohe absolute Rendite) besteht.\n",
    "\n",
    "##### Ergebnisse\n",
    "  - **Chi²-Statistik:** 361.76  \n",
    "  - **p-Wert (parametrisch):** < 0.000001  \n",
    "  - **p-Wert (Permutation):** 0.0000 (bei 10.000 Permutationen)  \n",
    "  - **Signifikanzniveau (α):** 0.05\n",
    "\n",
    "##### Schlussfolgerung \n",
    "  Die p-Werte sind deutlich kleiner als α = 0.05. Die Nullhypothese eines unabhängigen Zusammenhangs wird verworfen. Es besteht ein **signifikanter Zusammenhang** zwischen News Priority und hoher absoluter Rendite.\n",
    "\n",
    "##### Praktische Bedeutung  \n",
    "  Die Nachrichtenpriorität hat einen statistisch signifikanten Einfluss darauf, ob hohe absolute Renditen auftreten.\n"
   ]
  },
  {
   "cell_type": "markdown",
   "id": "42",
   "metadata": {},
   "source": [
    "## Zusammenfassung der explorativen Datenanalyse\n",
    "\n",
    "### Methodisches Vorgehen und zentrale Erkenntnisse\n",
    "\n",
    "**Schritt 1: Fokussierung auf relevante Zeitpunkte**\n",
    "Aus allen verfügbaren Uhrzeiten haben wir die fünf news-intensivsten Zeiten (13:30, 14:00, 14:30, 15:00, 19:00) identifiziert. Diese Filterung ermöglichte es uns, Zeitperioden mit ausreichender News-Aktivität für statistisch robuste Analysen zu isolieren.\n",
    "\n",
    "**Schritt 2: Deskriptive Evidenz für News-Impact**\n",
    "Die deskriptive Statistik zeigte konsistent höhere Goldpreis-Volatilität während News-Ereignissen. Mit einer durchschnittlichen Volatilitätssteigerung von 40% und robusten Bootstrap-Konfidenzintervallen etablierten wir eine solide empirische Grundlage.\n",
    "\n",
    "**Schritt 3: Statistische Signifikanzprüfung**\n",
    "Kategorienspezifische T-Tests reduzierten unseren Fokus auf drei statistisch signifikante Uhrzeiten (13:30, 15:00, 19:00). Diese methodische Verschärfung eliminierte Zeitpunkte ohne nachweisbaren News-Effekt und maximierte die analytische Präzision.\n",
    "\n",
    "**Schritt 4: Kategorienvergleich mittels ANOVA**\n",
    "Die Bootstrap-ANOVA bestätigte signifikante Unterschiede zwischen News-Kategorien (F = 50.22, p < 0.001). Dies validierte unseren Ansatz, verschiedene Nachrichtentypen differenziert zu behandeln statt sie uniform zu gewichten.\n",
    "\n",
    "**Schritt 5: Kategorienspezifische Wirkungsanalyse**\n",
    "Die finalen kategoriespezifischen T-Tests identifizierten eine klare Wirkungshierarchie: Interest Rate zeigt den stärksten Impact (Cohen's d = 1.58), gefolgt von Inflation und Labor Market, während Politics statistisch irrelevant bleibt.\n",
    "\n",
    "### Implikationen für das Modeling\n",
    "\n",
    "Für die nachfolgende Modellentwicklung ergeben sich zwei wesentliche Design-Prinzipien: Erstens die Fokussierung auf die drei signifikanten Uhrzeiten zur Maximierung der Vorhersagekraft, sowie zweitens die kategorienspezifische Gewichtung von News-Features entsprechend ihrer empirisch belegten Wirkungsstärke.\n",
    "\n",
    "Diese systematische EDA liefert eine datengetriebene Grundlage für ein fokussiertes und statistisch fundiertes Vorhersagemodell."
   ]
  }
 ],
 "metadata": {
  "kernelspec": {
   "display_name": "venv",
   "language": "python",
   "name": "python3"
  },
  "language_info": {
   "codemirror_mode": {
    "name": "ipython",
    "version": 3
   },
   "file_extension": ".py",
   "mimetype": "text/x-python",
   "name": "python",
   "nbconvert_exporter": "python",
   "pygments_lexer": "ipython3",
   "version": "3.11.7"
  }
 },
 "nbformat": 4,
 "nbformat_minor": 5
}
